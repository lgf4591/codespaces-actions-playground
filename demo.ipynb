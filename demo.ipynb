{
 "cells": [
  {
   "cell_type": "code",
   "execution_count": 1,
   "metadata": {},
   "outputs": [
    {
     "data": {
      "text/plain": [
       "'\\n正在 Ping baidu.com [39.156.66.10] 具有 32 字节的数据:\\n来自 39.156.66.10 的回复: 字节=32 时间=41ms TTL=49\\n来自 39.156.66.10 的回复: 字节=32 时间=40ms TTL=49\\n来自 39.156.66.10 的回复: 字节=32 时间=117ms TTL=49\\n来自 39.156.66.10 的回复: 字节=32 时间=40ms TTL=49\\n\\n39.156.66.10 的 Ping 统计信息:\\n    数据包: 已发送 = 4，已接收 = 4，丢失 = 0 (0% 丢失)，\\n往返行程的估计时间(以毫秒为单位):\\n    最短 = 40ms，最长 = 117ms，平均 = 59ms\\n'"
      ]
     },
     "execution_count": 1,
     "metadata": {},
     "output_type": "execute_result"
    }
   ],
   "source": [
    "output = \"\"\"\n",
    "正在 Ping baidu.com [39.156.66.10] 具有 32 字节的数据:\n",
    "来自 39.156.66.10 的回复: 字节=32 时间=41ms TTL=49\n",
    "来自 39.156.66.10 的回复: 字节=32 时间=40ms TTL=49\n",
    "来自 39.156.66.10 的回复: 字节=32 时间=117ms TTL=49\n",
    "来自 39.156.66.10 的回复: 字节=32 时间=40ms TTL=49\n",
    "\n",
    "39.156.66.10 的 Ping 统计信息:\n",
    "    数据包: 已发送 = 4，已接收 = 4，丢失 = 0 (0% 丢失)，\n",
    "往返行程的估计时间(以毫秒为单位):\n",
    "    最短 = 40ms，最长 = 117ms，平均 = 59ms\n",
    "\"\"\"\n",
    "output"
   ]
  },
  {
   "cell_type": "code",
   "execution_count": 19,
   "metadata": {},
   "outputs": [
    {
     "data": {
      "text/plain": [
       "('40', '117', '59')"
      ]
     },
     "execution_count": 19,
     "metadata": {},
     "output_type": "execute_result"
    }
   ],
   "source": [
    "import re\n",
    "match = re.search(r'最短 = (\\d+)ms，最长 = (\\d+)ms，平均 = (\\d+)ms', output, re.DOTALL)\n",
    "match.groups()"
   ]
  },
  {
   "cell_type": "code",
   "execution_count": 20,
   "metadata": {},
   "outputs": [
    {
     "data": {
      "text/plain": [
       "('0', '0', None, None, None)"
      ]
     },
     "execution_count": 20,
     "metadata": {},
     "output_type": "execute_result"
    }
   ],
   "source": [
    "import re\n",
    "match1 = re.search(r'，丢失 = (\\d+) \\((\\d+)% 丢失\\)，|最短 = (\\d+)ms，最长 = (\\d+)ms，平均 = (\\d+)ms', output, re.DOTALL)\n",
    "match1.groups()"
   ]
  },
  {
   "cell_type": "code",
   "execution_count": 21,
   "metadata": {},
   "outputs": [
    {
     "data": {
      "text/plain": [
       "('0', '0')"
      ]
     },
     "execution_count": 21,
     "metadata": {},
     "output_type": "execute_result"
    }
   ],
   "source": [
    "import re\n",
    "match2 = re.search(r'，丢失 = (\\d+) \\((\\d+)% 丢失\\)，', output, re.DOTALL)\n",
    "match2.groups()"
   ]
  },
  {
   "cell_type": "code",
   "execution_count": null,
   "metadata": {},
   "outputs": [],
   "source": []
  },
  {
   "cell_type": "code",
   "execution_count": null,
   "metadata": {},
   "outputs": [],
   "source": []
  },
  {
   "cell_type": "code",
   "execution_count": null,
   "metadata": {},
   "outputs": [],
   "source": []
  },
  {
   "cell_type": "code",
   "execution_count": null,
   "metadata": {},
   "outputs": [],
   "source": []
  },
  {
   "cell_type": "code",
   "execution_count": null,
   "metadata": {},
   "outputs": [],
   "source": []
  },
  {
   "cell_type": "code",
   "execution_count": null,
   "metadata": {},
   "outputs": [],
   "source": []
  }
 ],
 "metadata": {
  "kernelspec": {
   "display_name": "Python 3",
   "language": "python",
   "name": "python3"
  },
  "language_info": {
   "codemirror_mode": {
    "name": "ipython",
    "version": 3
   },
   "file_extension": ".py",
   "mimetype": "text/x-python",
   "name": "python",
   "nbconvert_exporter": "python",
   "pygments_lexer": "ipython3",
   "version": "3.11.6"
  }
 },
 "nbformat": 4,
 "nbformat_minor": 2
}
